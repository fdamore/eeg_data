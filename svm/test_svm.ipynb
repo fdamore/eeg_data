{
 "cells": [
  {
   "cell_type": "code",
   "execution_count": 1,
   "id": "809041b3",
   "metadata": {},
   "outputs": [],
   "source": [
    "%load_ext autoreload\n",
    "%autoreload 2"
   ]
  },
  {
   "cell_type": "code",
   "execution_count": 2,
   "id": "e73c71a7",
   "metadata": {},
   "outputs": [],
   "source": [
    "import sys\n",
    "import numpy as np\n",
    "sys.path.append('..')\n",
    "\n",
    "import dataproc.preprocessing as dp"
   ]
  },
  {
   "cell_type": "code",
   "execution_count": 3,
   "id": "47cadc3a",
   "metadata": {},
   "outputs": [
    {
     "name": "stdout",
     "output_type": "stream",
     "text": [
      "Origin shape: (249720, 17)\n",
      "Resampled df: (249720, 17)\n"
     ]
    }
   ],
   "source": [
    "#load and preprocessing the data\n",
    "\n",
    "# Loaded variable 'df' from URI: /home/francesco/git/esn_rpy/data/signal_eeg.csv\n",
    "import pandas as pd\n",
    "\n",
    "\n",
    "filename = '/home/francesco/git/esn_rpy/data/signal_eeg.csv'\n",
    "\n",
    "df_origin = pd.read_csv(filename)\n",
    "nrow = df_origin.shape[0]\n",
    "\n",
    "print(f'Origin shape: {df_origin.shape}')\n",
    "\n",
    "f_rate = 1\n",
    "df = pd.read_csv(filename)[:int(np.ceil(nrow * f_rate))]\n",
    "\n",
    "print(f'Resampled df: {df.shape}')\n"
   ]
  },
  {
   "cell_type": "code",
   "execution_count": 19,
   "id": "15f38b02",
   "metadata": {},
   "outputs": [
    {
     "name": "stdout",
     "output_type": "stream",
     "text": [
      "Shape of the data: (130931, 12)\n",
      "Shape of the label: (130931,)\n",
      "Number of classes: 20\n"
     ]
    }
   ],
   "source": [
    "#clean and preprocessing the data and apply feature reduction\n",
    "df_clean =  dp.clean_data(df.copy(), scale=True)\n",
    "X, y = dp.split_data_target(df_clean)\n",
    "\n",
    "\n",
    "print(f'Shape of the data: {X.shape}')\n",
    "print(f'Shape of the label: {y.shape}')\n",
    "print(f'Number of classes: {len(np.unique(y))}')"
   ]
  },
  {
   "cell_type": "code",
   "execution_count": 20,
   "id": "1253998c",
   "metadata": {},
   "outputs": [
    {
     "name": "stdout",
     "output_type": "stream",
     "text": [
      "Number of components required to reach 95.0% variance: 6\n",
      "Shape of the reduced data: (130931, 6)\n"
     ]
    }
   ],
   "source": [
    "#apply feature reduction\n",
    "X_transformed, lda = dp.lda_process(X, y, n_components=None)\n",
    "\n",
    "\n",
    "#require a specific variance threshold\n",
    "required_var = 0.95\n",
    "\n",
    "X_reduced_lda = dp.get_data_for_variance(required_variance=required_var, ca=lda, X=X_transformed)\n",
    "print(f'Number of components required to reach {required_var*100}% variance: {X_reduced_lda.shape[1]}')\n",
    "print(f'Shape of the reduced data: {X_reduced_lda.shape}')\n"
   ]
  },
  {
   "cell_type": "code",
   "execution_count": 21,
   "id": "1400ccab",
   "metadata": {},
   "outputs": [
    {
     "name": "stdout",
     "output_type": "stream",
     "text": [
      "Number of components required to reach 95.0% variance: 9\n",
      "Shape of the reduced data: (130931, 9)\n"
     ]
    }
   ],
   "source": [
    "X_transformed_pca, pca = dp.pca_process(X, n_components=None)\n",
    "#require a specific variance threshold\n",
    "required_var = 0.95\n",
    "\n",
    "X_reduced_pca = dp.get_data_for_variance(required_variance=required_var, ca=pca, X=X_transformed_pca)\n",
    "print(f'Number of components required to reach {required_var*100}% variance: {X_reduced_pca.shape[1]}')\n",
    "print(f'Shape of the reduced data: {X_reduced_pca.shape}')"
   ]
  },
  {
   "cell_type": "code",
   "execution_count": 23,
   "id": "ffee4375",
   "metadata": {},
   "outputs": [
    {
     "name": "stdout",
     "output_type": "stream",
     "text": [
      "Feature reduced data shape:\n",
      "[[ 0.03230148 -0.02892469 -0.01809318  0.0316722  -0.00390796 -0.01955923\n",
      "   0.03988031 -0.06356248  0.01131036 -0.06934005  0.01959182  0.06672294]\n",
      " [ 0.1173437  -0.21019148  0.34212868 -0.15926629 -0.35378641 -0.49194994\n",
      "  -0.28289487  0.00173375  0.14276417 -0.10536552  0.02026901 -0.31303716]\n",
      " [ 0.18314029 -0.39510052  0.63863478 -0.27685971 -0.63957579 -0.84706545\n",
      "  -0.58943897  0.07372448  0.24522465 -0.15941737 -0.04253329 -0.52986506]\n",
      " [ 0.2153767  -0.5826665   0.82627876 -0.27797511 -0.81244762 -1.0100013\n",
      "  -0.86301783  0.1551087   0.28163312 -0.23277422 -0.18835125 -0.49912707]\n",
      " [ 0.20956397 -0.76556128  0.89258409 -0.1614915  -0.84611663 -0.97386061\n",
      "  -1.08662526  0.24194129  0.2061177  -0.3031868  -0.3766472  -0.25088056]]\n",
      "Extract component:\n",
      "[[ 0.03230148 -0.02892469 -0.01809318  0.0316722  -0.00390796 -0.01955923]\n",
      " [ 0.1173437  -0.21019148  0.34212868 -0.15926629 -0.35378641 -0.49194994]\n",
      " [ 0.18314029 -0.39510052  0.63863478 -0.27685971 -0.63957579 -0.84706545]\n",
      " [ 0.2153767  -0.5826665   0.82627876 -0.27797511 -0.81244762 -1.0100013 ]\n",
      " [ 0.20956397 -0.76556128  0.89258409 -0.1614915  -0.84611663 -0.97386061]]\n"
     ]
    }
   ],
   "source": [
    "print('Feature reduced data shape:')\n",
    "print(X_transformed[0:5])\n",
    "print('Extract component:')\n",
    "print(X_reduced_lda[0:5])"
   ]
  },
  {
   "cell_type": "code",
   "execution_count": 24,
   "id": "8cd73f51",
   "metadata": {},
   "outputs": [
    {
     "name": "stdout",
     "output_type": "stream",
     "text": [
      "Transforming a single sample...\n"
     ]
    },
    {
     "data": {
      "text/plain": [
       "array([[ 0.03230148, -0.02892469, -0.01809318,  0.0316722 , -0.00390796,\n",
       "        -0.01955923,  0.03988031, -0.06356248,  0.01131036, -0.06934005,\n",
       "         0.01959182,  0.06672294]])"
      ]
     },
     "execution_count": 24,
     "metadata": {},
     "output_type": "execute_result"
    }
   ],
   "source": [
    "#trasform a single sample\n",
    "print('Transforming a single sample...')\n",
    "lda.transform(X[0,:].reshape(1, -1))"
   ]
  },
  {
   "cell_type": "code",
   "execution_count": 25,
   "id": "681e4278",
   "metadata": {},
   "outputs": [],
   "source": [
    "#splt the data into train and test set\n",
    "from sklearn.model_selection import train_test_split\n",
    "X_train, X_test, y_train, y_test = train_test_split(X_reduced_lda, y, test_size=0.2, random_state=42, stratify=y)"
   ]
  },
  {
   "cell_type": "code",
   "execution_count": 26,
   "id": "025b7ad5",
   "metadata": {},
   "outputs": [
    {
     "name": "stdout",
     "output_type": "stream",
     "text": [
      "Shape of the training data: (104744, 6)\n",
      "Shape of the test data: (26187, 6)\n",
      "Number of classes: 20\n",
      "Number of classes in training set: 20\n",
      "Number of classes in test set: 20\n",
      "Distribution of classes in training set: [6150 6150 5146 5158 5120 5152 5107 5127 5148 5139 5133 5133 5126 5139\n",
      " 5133 5133 5139 5152 5139 5120]\n",
      "Distribution of classes in test set: [1538 1538 1286 1290 1280 1288 1277 1281 1287 1285 1283 1283 1282 1285\n",
      " 1283 1283 1285 1288 1285 1280]\n"
     ]
    }
   ],
   "source": [
    "#get information about the data\n",
    "print(f'Shape of the training data: {X_train.shape}')\n",
    "print(f'Shape of the test data: {X_test.shape}')\n",
    "print(f'Number of classes: {len(np.unique(y))}')\n",
    "#print the number of classes in training and test set\n",
    "print(f'Number of classes in training set: {len(np.unique(y_train))}')\n",
    "print(f'Number of classes in test set: {len(np.unique(y_test))}')\n",
    "#give me the distribution of classes in training and test set\n",
    "print(f'Distribution of classes in training set: {np.bincount(y_train)}')\n",
    "print(f'Distribution of classes in test set: {np.bincount(y_test)}')"
   ]
  },
  {
   "cell_type": "code",
   "execution_count": null,
   "id": "6b7a95e6",
   "metadata": {},
   "outputs": [],
   "source": [
    "#code to classify with SVM the data loeded above\n",
    "from sklearn.svm import SVC\n",
    "from sklearn.metrics import accuracy_score, classification_report\n",
    "\n",
    "# Create and train the SVM model\n",
    "svm_model = SVC(kernel='rbf', C=1.0)\n",
    "svm_model.fit(X_train, y_train)\n",
    "# Evaluate the model on the test set\n",
    "\n",
    "y_pred = svm_model.predict(X_test)\n",
    "# Calculate accuracy\n",
    "accuracy = accuracy_score(y_test, y_pred)\n",
    "print(f'Accuracy of the SVM model: {accuracy * 100:.2f}%')\n",
    "# Print classification report\n",
    "print(\"Classification Report:\")\n",
    "print(classification_report(y_test, y_pred))\n",
    "\n"
   ]
  }
 ],
 "metadata": {
  "kernelspec": {
   "display_name": ".venv",
   "language": "python",
   "name": "python3"
  },
  "language_info": {
   "codemirror_mode": {
    "name": "ipython",
    "version": 3
   },
   "file_extension": ".py",
   "mimetype": "text/x-python",
   "name": "python",
   "nbconvert_exporter": "python",
   "pygments_lexer": "ipython3",
   "version": "3.12.3"
  }
 },
 "nbformat": 4,
 "nbformat_minor": 5
}

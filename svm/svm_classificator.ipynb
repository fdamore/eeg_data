{
 "cells": [
  {
   "cell_type": "code",
   "execution_count": 2,
   "id": "809041b3",
   "metadata": {},
   "outputs": [],
   "source": [
    "%load_ext autoreload\n",
    "%autoreload 2"
   ]
  },
  {
   "cell_type": "code",
   "execution_count": 3,
   "id": "e73c71a7",
   "metadata": {},
   "outputs": [],
   "source": [
    "import sys\n",
    "import numpy as np\n",
    "sys.path.append('..')\n",
    "\n",
    "import dataproc.preprocessing as dp"
   ]
  },
  {
   "cell_type": "code",
   "execution_count": 14,
   "id": "47cadc3a",
   "metadata": {},
   "outputs": [
    {
     "name": "stdout",
     "output_type": "stream",
     "text": [
      "Origin shape: (249720, 17)\n",
      "Resampled df: (49944, 17)\n"
     ]
    }
   ],
   "source": [
    "#load and preprocessing the data\n",
    "\n",
    "# Loaded variable 'df' from URI: /home/francesco/git/esn_rpy/data/signal_eeg.csv\n",
    "import pandas as pd\n",
    "\n",
    "\n",
    "filename = '/home/francesco/git/esn_rpy/data/signal_eeg.csv'\n",
    "\n",
    "df_origin = pd.read_csv(filename)\n",
    "nrow = df_origin.shape[0]\n",
    "\n",
    "print(f'Origin shape: {df_origin.shape}')\n",
    "\n",
    "f_rate = 0.2\n",
    "df = pd.read_csv(filename)[:int(np.ceil(nrow * f_rate))]\n",
    "\n",
    "print(f'Resampled df: {df.shape}')\n"
   ]
  },
  {
   "cell_type": "code",
   "execution_count": 21,
   "id": "15f38b02",
   "metadata": {},
   "outputs": [
    {
     "name": "stdout",
     "output_type": "stream",
     "text": [
      "Shape of the data: (31339, 12)\n",
      "Shape of the label: (31339,)\n",
      "Number of classes: 5\n"
     ]
    }
   ],
   "source": [
    "#clean and preprocessing the data and apply feature reduction\n",
    "df_clean =  dp.clean_data(df.copy())\n",
    "X, y = dp.split_data_target(df_clean)\n",
    "\n",
    "\n",
    "print(f'Shape of the data: {X.shape}')\n",
    "print(f'Shape of the label: {y.shape}')\n",
    "print(f'Number of classes: {len(np.unique(y))}')"
   ]
  },
  {
   "cell_type": "code",
   "execution_count": null,
   "id": "1253998c",
   "metadata": {},
   "outputs": [
    {
     "name": "stdout",
     "output_type": "stream",
     "text": [
      "Number of components required to reach 95.0% variance: 3\n",
      "Shape of the reduced data: (31339, 3)\n"
     ]
    }
   ],
   "source": [
    "#apply feature reduction\n",
    "lda_reduced, lda = dp.lda_process(X, y, n_components=None)\n",
    "\n",
    "#require a specific variance threshold\n",
    "required_var = 0.95\n",
    "\n",
    "X_reduced = dp.get_data_for_variance(required_variance=required_var, lda=lda, X=lda_reduced)\n",
    "print(f'Number of components required to reach {required_var*100}% variance: {X_reduced.shape[1]}')\n",
    "print(f'Shape of the reduced data: {X_reduced.shape}')\n"
   ]
  },
  {
   "cell_type": "code",
   "execution_count": 22,
   "id": "681e4278",
   "metadata": {},
   "outputs": [],
   "source": [
    "#splt the data into train and test set\n",
    "from sklearn.model_selection import train_test_split\n",
    "X_train, X_test, y_train, y_test = train_test_split(X_reduced, y, test_size=0.2, random_state=42, stratify=y)"
   ]
  },
  {
   "cell_type": "code",
   "execution_count": 23,
   "id": "025b7ad5",
   "metadata": {},
   "outputs": [
    {
     "name": "stdout",
     "output_type": "stream",
     "text": [
      "Shape of the training data: (25071, 3)\n",
      "Shape of the test data: (6268, 3)\n",
      "Number of classes: 5\n",
      "Number of classes in training set: 5\n",
      "Number of classes in test set: 5\n",
      "Distribution of classes in training set: [6150 6150 2490 5148 5133]\n",
      "Distribution of classes in test set: [1538 1538  622 1287 1283]\n"
     ]
    }
   ],
   "source": [
    "#get information about the data\n",
    "print(f'Shape of the training data: {X_train.shape}')\n",
    "print(f'Shape of the test data: {X_test.shape}')\n",
    "print(f'Number of classes: {len(np.unique(y))}')\n",
    "#print the number of classes in training and test set\n",
    "print(f'Number of classes in training set: {len(np.unique(y_train))}')\n",
    "print(f'Number of classes in test set: {len(np.unique(y_test))}')\n",
    "#give me the distribution of classes in training and test set\n",
    "print(f'Distribution of classes in training set: {np.bincount(y_train)}')\n",
    "print(f'Distribution of classes in test set: {np.bincount(y_test)}')"
   ]
  },
  {
   "cell_type": "code",
   "execution_count": 20,
   "id": "6b7a95e6",
   "metadata": {},
   "outputs": [
    {
     "name": "stdout",
     "output_type": "stream",
     "text": [
      "Accuracy of the SVM model: 28.11%\n",
      "Classification Report:\n",
      "              precision    recall  f1-score   support\n",
      "\n",
      "           0       0.30      0.27      0.28      1538\n",
      "           1       0.26      0.79      0.39      1538\n",
      "           2       0.88      0.02      0.05       622\n",
      "           3       0.62      0.03      0.05      1287\n",
      "           4       0.68      0.06      0.11      1283\n",
      "\n",
      "    accuracy                           0.28      6268\n",
      "   macro avg       0.55      0.23      0.18      6268\n",
      "weighted avg       0.49      0.28      0.20      6268\n",
      "\n"
     ]
    }
   ],
   "source": [
    "#code to classify with SVM the data loeded above\n",
    "from sklearn.svm import SVC\n",
    "from sklearn.metrics import accuracy_score, classification_report, confusion_matrix\n",
    "\n",
    "# Create and train the SVM model\n",
    "svm_model = SVC(kernel='rbf', C=1.0, random_state=42, decision_function_shape='ovr')\n",
    "svm_model.fit(X_train, y_train)\n",
    "# Evaluate the model on the test set\n",
    "\n",
    "y_pred = svm_model.predict(X_test)\n",
    "# Calculate accuracy\n",
    "accuracy = accuracy_score(y_test, y_pred)\n",
    "print(f'Accuracy of the SVM model: {accuracy * 100:.2f}%')\n",
    "# Print classification report\n",
    "print(\"Classification Report:\")\n",
    "print(classification_report(y_test, y_pred))\n",
    "\n"
   ]
  }
 ],
 "metadata": {
  "kernelspec": {
   "display_name": ".venv",
   "language": "python",
   "name": "python3"
  },
  "language_info": {
   "codemirror_mode": {
    "name": "ipython",
    "version": 3
   },
   "file_extension": ".py",
   "mimetype": "text/x-python",
   "name": "python",
   "nbconvert_exporter": "python",
   "pygments_lexer": "ipython3",
   "version": "3.12.3"
  }
 },
 "nbformat": 4,
 "nbformat_minor": 5
}

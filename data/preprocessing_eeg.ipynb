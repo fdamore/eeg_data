{
 "cells": [
  {
   "cell_type": "code",
   "execution_count": 1,
   "id": "2004d993",
   "metadata": {},
   "outputs": [],
   "source": [
    "%load_ext autoreload\n",
    "%autoreload 2"
   ]
  },
  {
   "cell_type": "code",
   "execution_count": 2,
   "id": "86433b3c",
   "metadata": {},
   "outputs": [],
   "source": [
    "import sys\n",
    "sys.path.append('..')"
   ]
  },
  {
   "cell_type": "code",
   "execution_count": 12,
   "id": "477e9823",
   "metadata": {},
   "outputs": [],
   "source": [
    "from scipy.signal import butter, filtfilt\n",
    "from sklearn.preprocessing import StandardScaler\n",
    "import pandas as pd\n",
    "import numpy as np\n",
    "\n",
    "import dataproc.preprocessing as dp\n",
    "\n",
    "\n",
    "# Loaded variable 'df' from URI: /home/francesco/git/esn_rpy/data/signal_eeg.csv\n",
    "df = pd.read_csv(r'signal_eeg.csv')"
   ]
  },
  {
   "cell_type": "code",
   "execution_count": 21,
   "id": "87dffe00",
   "metadata": {},
   "outputs": [
    {
     "data": {
      "application/vnd.microsoft.datawrangler.viewer.v0+json": {
       "columns": [
        {
         "name": "index",
         "rawType": "int64",
         "type": "integer"
        },
        {
         "name": "0",
         "rawType": "object",
         "type": "string"
        }
       ],
       "ref": "2930960a-8cca-4237-92ae-c0951570d452",
       "rows": [
        [
         "0",
         "idle"
        ],
        [
         "1",
         "start"
        ],
        [
         "2",
         "baseline_eyes_open"
        ],
        [
         "3",
         "rest"
        ],
        [
         "4",
         "baseline_eyes_closed"
        ],
        [
         "5",
         "right_arm_imagery"
        ],
        [
         "6",
         "left_arm_imagery"
        ],
        [
         "7",
         "both_arms_imagery"
        ],
        [
         "8",
         "right_arm_movement"
        ],
        [
         "9",
         "left_arm_movement"
        ],
        [
         "10",
         "both_arms_movement"
        ],
        [
         "11",
         "right_leg_imagery"
        ],
        [
         "12",
         "left_leg_imagery"
        ],
        [
         "13",
         "both_legs_imagery"
        ],
        [
         "14",
         "right_leg_movement"
        ],
        [
         "15",
         "left_leg_movement"
        ],
        [
         "16",
         "both_legs_movement"
        ],
        [
         "17",
         "right_fist_imagery"
        ],
        [
         "18",
         "left_fist_imagery"
        ],
        [
         "19",
         "both_fists_imagery"
        ],
        [
         "20",
         "right_fist_movement"
        ],
        [
         "21",
         "left_fist_movement"
        ],
        [
         "22",
         "both_fists_movement"
        ]
       ],
       "shape": {
        "columns": 1,
        "rows": 23
       }
      },
      "text/html": [
       "<div>\n",
       "<style scoped>\n",
       "    .dataframe tbody tr th:only-of-type {\n",
       "        vertical-align: middle;\n",
       "    }\n",
       "\n",
       "    .dataframe tbody tr th {\n",
       "        vertical-align: top;\n",
       "    }\n",
       "\n",
       "    .dataframe thead th {\n",
       "        text-align: right;\n",
       "    }\n",
       "</style>\n",
       "<table border=\"1\" class=\"dataframe\">\n",
       "  <thead>\n",
       "    <tr style=\"text-align: right;\">\n",
       "      <th></th>\n",
       "      <th>0</th>\n",
       "    </tr>\n",
       "  </thead>\n",
       "  <tbody>\n",
       "    <tr>\n",
       "      <th>0</th>\n",
       "      <td>idle</td>\n",
       "    </tr>\n",
       "    <tr>\n",
       "      <th>1</th>\n",
       "      <td>start</td>\n",
       "    </tr>\n",
       "    <tr>\n",
       "      <th>2</th>\n",
       "      <td>baseline_eyes_open</td>\n",
       "    </tr>\n",
       "    <tr>\n",
       "      <th>3</th>\n",
       "      <td>rest</td>\n",
       "    </tr>\n",
       "    <tr>\n",
       "      <th>4</th>\n",
       "      <td>baseline_eyes_closed</td>\n",
       "    </tr>\n",
       "    <tr>\n",
       "      <th>5</th>\n",
       "      <td>right_arm_imagery</td>\n",
       "    </tr>\n",
       "    <tr>\n",
       "      <th>6</th>\n",
       "      <td>left_arm_imagery</td>\n",
       "    </tr>\n",
       "    <tr>\n",
       "      <th>7</th>\n",
       "      <td>both_arms_imagery</td>\n",
       "    </tr>\n",
       "    <tr>\n",
       "      <th>8</th>\n",
       "      <td>right_arm_movement</td>\n",
       "    </tr>\n",
       "    <tr>\n",
       "      <th>9</th>\n",
       "      <td>left_arm_movement</td>\n",
       "    </tr>\n",
       "    <tr>\n",
       "      <th>10</th>\n",
       "      <td>both_arms_movement</td>\n",
       "    </tr>\n",
       "    <tr>\n",
       "      <th>11</th>\n",
       "      <td>right_leg_imagery</td>\n",
       "    </tr>\n",
       "    <tr>\n",
       "      <th>12</th>\n",
       "      <td>left_leg_imagery</td>\n",
       "    </tr>\n",
       "    <tr>\n",
       "      <th>13</th>\n",
       "      <td>both_legs_imagery</td>\n",
       "    </tr>\n",
       "    <tr>\n",
       "      <th>14</th>\n",
       "      <td>right_leg_movement</td>\n",
       "    </tr>\n",
       "    <tr>\n",
       "      <th>15</th>\n",
       "      <td>left_leg_movement</td>\n",
       "    </tr>\n",
       "    <tr>\n",
       "      <th>16</th>\n",
       "      <td>both_legs_movement</td>\n",
       "    </tr>\n",
       "    <tr>\n",
       "      <th>17</th>\n",
       "      <td>right_fist_imagery</td>\n",
       "    </tr>\n",
       "    <tr>\n",
       "      <th>18</th>\n",
       "      <td>left_fist_imagery</td>\n",
       "    </tr>\n",
       "    <tr>\n",
       "      <th>19</th>\n",
       "      <td>both_fists_imagery</td>\n",
       "    </tr>\n",
       "    <tr>\n",
       "      <th>20</th>\n",
       "      <td>right_fist_movement</td>\n",
       "    </tr>\n",
       "    <tr>\n",
       "      <th>21</th>\n",
       "      <td>left_fist_movement</td>\n",
       "    </tr>\n",
       "    <tr>\n",
       "      <th>22</th>\n",
       "      <td>both_fists_movement</td>\n",
       "    </tr>\n",
       "  </tbody>\n",
       "</table>\n",
       "</div>"
      ],
      "text/plain": [
       "                       0\n",
       "0                   idle\n",
       "1                  start\n",
       "2     baseline_eyes_open\n",
       "3                   rest\n",
       "4   baseline_eyes_closed\n",
       "5      right_arm_imagery\n",
       "6       left_arm_imagery\n",
       "7      both_arms_imagery\n",
       "8     right_arm_movement\n",
       "9      left_arm_movement\n",
       "10    both_arms_movement\n",
       "11     right_leg_imagery\n",
       "12      left_leg_imagery\n",
       "13     both_legs_imagery\n",
       "14    right_leg_movement\n",
       "15     left_leg_movement\n",
       "16    both_legs_movement\n",
       "17    right_fist_imagery\n",
       "18     left_fist_imagery\n",
       "19    both_fists_imagery\n",
       "20   right_fist_movement\n",
       "21    left_fist_movement\n",
       "22   both_fists_movement"
      ]
     },
     "execution_count": 21,
     "metadata": {},
     "output_type": "execute_result"
    }
   ],
   "source": [
    "#the different labels in the dataset\n",
    "distinct_labels = df['label'].unique()\n",
    "pd.DataFrame(distinct_labels)"
   ]
  },
  {
   "cell_type": "code",
   "execution_count": 13,
   "id": "092270dc",
   "metadata": {},
   "outputs": [
    {
     "data": {
      "application/vnd.microsoft.datawrangler.viewer.v0+json": {
       "columns": [
        {
         "name": "index",
         "rawType": "int64",
         "type": "integer"
        },
        {
         "name": "channel_0",
         "rawType": "float64",
         "type": "float"
        },
        {
         "name": "channel_1",
         "rawType": "float64",
         "type": "float"
        },
        {
         "name": "channel_2",
         "rawType": "float64",
         "type": "float"
        },
        {
         "name": "channel_3",
         "rawType": "float64",
         "type": "float"
        },
        {
         "name": "channel_4",
         "rawType": "float64",
         "type": "float"
        },
        {
         "name": "channel_5",
         "rawType": "float64",
         "type": "float"
        },
        {
         "name": "channel_6",
         "rawType": "float64",
         "type": "float"
        },
        {
         "name": "channel_7",
         "rawType": "float64",
         "type": "float"
        },
        {
         "name": "channel_8",
         "rawType": "float64",
         "type": "float"
        },
        {
         "name": "channel_9",
         "rawType": "float64",
         "type": "float"
        },
        {
         "name": "channel_10",
         "rawType": "float64",
         "type": "float"
        },
        {
         "name": "channel_11",
         "rawType": "float64",
         "type": "float"
        },
        {
         "name": "label",
         "rawType": "object",
         "type": "string"
        }
       ],
       "ref": "7c942ac9-d86a-4998-b98e-d9f77c56c997",
       "rows": [
        [
         "512",
         "0.014870390417038701",
         "0.00028473746017277886",
         "-0.02372026408390363",
         "-0.007394795928662472",
         "-0.0183153763943408",
         "-0.024062301637927587",
         "-0.050710333635739235",
         "-0.026561670237823364",
         "-0.0971496436539751",
         "-0.031036048143442616",
         "-0.032859559543586984",
         "-0.06753409610583251",
         "baseline_eyes_open"
        ],
        [
         "513",
         "-0.007400869022240386",
         "-0.057402626840273835",
         "-0.024773275042536187",
         "-0.19837822563363047",
         "-0.024712955750490578",
         "-0.2406821222112473",
         "-0.3345196222878633",
         "-0.31019953740328476",
         "-0.2692498184257997",
         "-0.31122155612473146",
         "-0.2485852759235766",
         "0.16432793058902653",
         "baseline_eyes_open"
        ],
        [
         "514",
         "-0.03212224165846203",
         "-0.11703603131115606",
         "-0.05699967375969428",
         "-0.39571495049628386",
         "-0.021912975367575145",
         "-0.42019847375167374",
         "-0.5971686788262932",
         "-0.5998402848285832",
         "-0.43463814319461236",
         "-0.5738278259293957",
         "-0.506029932703062",
         "0.24381508592066323",
         "baseline_eyes_open"
        ],
        [
         "515",
         "-0.05829772713894918",
         "-0.17380170020184346",
         "-0.13348667720379012",
         "-0.5933222353844789",
         "-0.00648569436792436",
         "-0.5319676051625847",
         "-0.8194022358516375",
         "-0.886484032196448",
         "-0.5783015700541414",
         "-0.8025326766587308",
         "-0.8105341612965833",
         "0.09405028736810472",
         "baseline_eyes_open"
        ],
        [
         "516",
         "-0.08047067554027813",
         "-0.21523361026380652",
         "-0.24161400520173945",
         "-0.7697712135930072",
         "0.015051018308448466",
         "-0.5618844979178876",
         "-0.9876460771996481",
         "-1.1442600678586259",
         "-0.6763162528401998",
         "-0.9853145626964229",
         "-1.1177554418350604",
         "-0.25356159406019474",
         "baseline_eyes_open"
        ]
       ],
       "shape": {
        "columns": 13,
        "rows": 5
       }
      },
      "text/html": [
       "<div>\n",
       "<style scoped>\n",
       "    .dataframe tbody tr th:only-of-type {\n",
       "        vertical-align: middle;\n",
       "    }\n",
       "\n",
       "    .dataframe tbody tr th {\n",
       "        vertical-align: top;\n",
       "    }\n",
       "\n",
       "    .dataframe thead th {\n",
       "        text-align: right;\n",
       "    }\n",
       "</style>\n",
       "<table border=\"1\" class=\"dataframe\">\n",
       "  <thead>\n",
       "    <tr style=\"text-align: right;\">\n",
       "      <th></th>\n",
       "      <th>channel_0</th>\n",
       "      <th>channel_1</th>\n",
       "      <th>channel_2</th>\n",
       "      <th>channel_3</th>\n",
       "      <th>channel_4</th>\n",
       "      <th>channel_5</th>\n",
       "      <th>channel_6</th>\n",
       "      <th>channel_7</th>\n",
       "      <th>channel_8</th>\n",
       "      <th>channel_9</th>\n",
       "      <th>channel_10</th>\n",
       "      <th>channel_11</th>\n",
       "      <th>label</th>\n",
       "    </tr>\n",
       "  </thead>\n",
       "  <tbody>\n",
       "    <tr>\n",
       "      <th>512</th>\n",
       "      <td>0.014870</td>\n",
       "      <td>0.000285</td>\n",
       "      <td>-0.023720</td>\n",
       "      <td>-0.007395</td>\n",
       "      <td>-0.018315</td>\n",
       "      <td>-0.024062</td>\n",
       "      <td>-0.050710</td>\n",
       "      <td>-0.026562</td>\n",
       "      <td>-0.097150</td>\n",
       "      <td>-0.031036</td>\n",
       "      <td>-0.032860</td>\n",
       "      <td>-0.067534</td>\n",
       "      <td>baseline_eyes_open</td>\n",
       "    </tr>\n",
       "    <tr>\n",
       "      <th>513</th>\n",
       "      <td>-0.007401</td>\n",
       "      <td>-0.057403</td>\n",
       "      <td>-0.024773</td>\n",
       "      <td>-0.198378</td>\n",
       "      <td>-0.024713</td>\n",
       "      <td>-0.240682</td>\n",
       "      <td>-0.334520</td>\n",
       "      <td>-0.310200</td>\n",
       "      <td>-0.269250</td>\n",
       "      <td>-0.311222</td>\n",
       "      <td>-0.248585</td>\n",
       "      <td>0.164328</td>\n",
       "      <td>baseline_eyes_open</td>\n",
       "    </tr>\n",
       "    <tr>\n",
       "      <th>514</th>\n",
       "      <td>-0.032122</td>\n",
       "      <td>-0.117036</td>\n",
       "      <td>-0.057000</td>\n",
       "      <td>-0.395715</td>\n",
       "      <td>-0.021913</td>\n",
       "      <td>-0.420198</td>\n",
       "      <td>-0.597169</td>\n",
       "      <td>-0.599840</td>\n",
       "      <td>-0.434638</td>\n",
       "      <td>-0.573828</td>\n",
       "      <td>-0.506030</td>\n",
       "      <td>0.243815</td>\n",
       "      <td>baseline_eyes_open</td>\n",
       "    </tr>\n",
       "    <tr>\n",
       "      <th>515</th>\n",
       "      <td>-0.058298</td>\n",
       "      <td>-0.173802</td>\n",
       "      <td>-0.133487</td>\n",
       "      <td>-0.593322</td>\n",
       "      <td>-0.006486</td>\n",
       "      <td>-0.531968</td>\n",
       "      <td>-0.819402</td>\n",
       "      <td>-0.886484</td>\n",
       "      <td>-0.578302</td>\n",
       "      <td>-0.802533</td>\n",
       "      <td>-0.810534</td>\n",
       "      <td>0.094050</td>\n",
       "      <td>baseline_eyes_open</td>\n",
       "    </tr>\n",
       "    <tr>\n",
       "      <th>516</th>\n",
       "      <td>-0.080471</td>\n",
       "      <td>-0.215234</td>\n",
       "      <td>-0.241614</td>\n",
       "      <td>-0.769771</td>\n",
       "      <td>0.015051</td>\n",
       "      <td>-0.561884</td>\n",
       "      <td>-0.987646</td>\n",
       "      <td>-1.144260</td>\n",
       "      <td>-0.676316</td>\n",
       "      <td>-0.985315</td>\n",
       "      <td>-1.117755</td>\n",
       "      <td>-0.253562</td>\n",
       "      <td>baseline_eyes_open</td>\n",
       "    </tr>\n",
       "  </tbody>\n",
       "</table>\n",
       "</div>"
      ],
      "text/plain": [
       "     channel_0  channel_1  channel_2  channel_3  channel_4  channel_5  \\\n",
       "512   0.014870   0.000285  -0.023720  -0.007395  -0.018315  -0.024062   \n",
       "513  -0.007401  -0.057403  -0.024773  -0.198378  -0.024713  -0.240682   \n",
       "514  -0.032122  -0.117036  -0.057000  -0.395715  -0.021913  -0.420198   \n",
       "515  -0.058298  -0.173802  -0.133487  -0.593322  -0.006486  -0.531968   \n",
       "516  -0.080471  -0.215234  -0.241614  -0.769771   0.015051  -0.561884   \n",
       "\n",
       "     channel_6  channel_7  channel_8  channel_9  channel_10  channel_11  \\\n",
       "512  -0.050710  -0.026562  -0.097150  -0.031036   -0.032860   -0.067534   \n",
       "513  -0.334520  -0.310200  -0.269250  -0.311222   -0.248585    0.164328   \n",
       "514  -0.597169  -0.599840  -0.434638  -0.573828   -0.506030    0.243815   \n",
       "515  -0.819402  -0.886484  -0.578302  -0.802533   -0.810534    0.094050   \n",
       "516  -0.987646  -1.144260  -0.676316  -0.985315   -1.117755   -0.253562   \n",
       "\n",
       "                  label  \n",
       "512  baseline_eyes_open  \n",
       "513  baseline_eyes_open  \n",
       "514  baseline_eyes_open  \n",
       "515  baseline_eyes_open  \n",
       "516  baseline_eyes_open  "
      ]
     },
     "execution_count": 13,
     "metadata": {},
     "output_type": "execute_result"
    }
   ],
   "source": [
    "#cleaning the data\n",
    "df_clean =    dp.clean_data(df.copy())\n",
    "df_clean.head()\n"
   ]
  },
  {
   "cell_type": "code",
   "execution_count": 22,
   "id": "1037c49a",
   "metadata": {},
   "outputs": [
    {
     "data": {
      "application/vnd.microsoft.datawrangler.viewer.v0+json": {
       "columns": [
        {
         "name": "index",
         "rawType": "int64",
         "type": "integer"
        },
        {
         "name": "0",
         "rawType": "object",
         "type": "string"
        }
       ],
       "ref": "e32c8b67-4527-4b84-a9f0-342cee116f27",
       "rows": [
        [
         "0",
         "baseline_eyes_open"
        ],
        [
         "1",
         "baseline_eyes_closed"
        ],
        [
         "2",
         "right_arm_imagery"
        ],
        [
         "3",
         "left_arm_imagery"
        ],
        [
         "4",
         "both_arms_imagery"
        ],
        [
         "5",
         "right_arm_movement"
        ],
        [
         "6",
         "left_arm_movement"
        ],
        [
         "7",
         "both_arms_movement"
        ],
        [
         "8",
         "right_leg_imagery"
        ],
        [
         "9",
         "left_leg_imagery"
        ],
        [
         "10",
         "both_legs_imagery"
        ],
        [
         "11",
         "right_leg_movement"
        ],
        [
         "12",
         "left_leg_movement"
        ],
        [
         "13",
         "both_legs_movement"
        ],
        [
         "14",
         "right_fist_imagery"
        ],
        [
         "15",
         "left_fist_imagery"
        ],
        [
         "16",
         "both_fists_imagery"
        ],
        [
         "17",
         "right_fist_movement"
        ],
        [
         "18",
         "left_fist_movement"
        ],
        [
         "19",
         "both_fists_movement"
        ]
       ],
       "shape": {
        "columns": 1,
        "rows": 20
       }
      },
      "text/html": [
       "<div>\n",
       "<style scoped>\n",
       "    .dataframe tbody tr th:only-of-type {\n",
       "        vertical-align: middle;\n",
       "    }\n",
       "\n",
       "    .dataframe tbody tr th {\n",
       "        vertical-align: top;\n",
       "    }\n",
       "\n",
       "    .dataframe thead th {\n",
       "        text-align: right;\n",
       "    }\n",
       "</style>\n",
       "<table border=\"1\" class=\"dataframe\">\n",
       "  <thead>\n",
       "    <tr style=\"text-align: right;\">\n",
       "      <th></th>\n",
       "      <th>0</th>\n",
       "    </tr>\n",
       "  </thead>\n",
       "  <tbody>\n",
       "    <tr>\n",
       "      <th>0</th>\n",
       "      <td>baseline_eyes_open</td>\n",
       "    </tr>\n",
       "    <tr>\n",
       "      <th>1</th>\n",
       "      <td>baseline_eyes_closed</td>\n",
       "    </tr>\n",
       "    <tr>\n",
       "      <th>2</th>\n",
       "      <td>right_arm_imagery</td>\n",
       "    </tr>\n",
       "    <tr>\n",
       "      <th>3</th>\n",
       "      <td>left_arm_imagery</td>\n",
       "    </tr>\n",
       "    <tr>\n",
       "      <th>4</th>\n",
       "      <td>both_arms_imagery</td>\n",
       "    </tr>\n",
       "    <tr>\n",
       "      <th>5</th>\n",
       "      <td>right_arm_movement</td>\n",
       "    </tr>\n",
       "    <tr>\n",
       "      <th>6</th>\n",
       "      <td>left_arm_movement</td>\n",
       "    </tr>\n",
       "    <tr>\n",
       "      <th>7</th>\n",
       "      <td>both_arms_movement</td>\n",
       "    </tr>\n",
       "    <tr>\n",
       "      <th>8</th>\n",
       "      <td>right_leg_imagery</td>\n",
       "    </tr>\n",
       "    <tr>\n",
       "      <th>9</th>\n",
       "      <td>left_leg_imagery</td>\n",
       "    </tr>\n",
       "    <tr>\n",
       "      <th>10</th>\n",
       "      <td>both_legs_imagery</td>\n",
       "    </tr>\n",
       "    <tr>\n",
       "      <th>11</th>\n",
       "      <td>right_leg_movement</td>\n",
       "    </tr>\n",
       "    <tr>\n",
       "      <th>12</th>\n",
       "      <td>left_leg_movement</td>\n",
       "    </tr>\n",
       "    <tr>\n",
       "      <th>13</th>\n",
       "      <td>both_legs_movement</td>\n",
       "    </tr>\n",
       "    <tr>\n",
       "      <th>14</th>\n",
       "      <td>right_fist_imagery</td>\n",
       "    </tr>\n",
       "    <tr>\n",
       "      <th>15</th>\n",
       "      <td>left_fist_imagery</td>\n",
       "    </tr>\n",
       "    <tr>\n",
       "      <th>16</th>\n",
       "      <td>both_fists_imagery</td>\n",
       "    </tr>\n",
       "    <tr>\n",
       "      <th>17</th>\n",
       "      <td>right_fist_movement</td>\n",
       "    </tr>\n",
       "    <tr>\n",
       "      <th>18</th>\n",
       "      <td>left_fist_movement</td>\n",
       "    </tr>\n",
       "    <tr>\n",
       "      <th>19</th>\n",
       "      <td>both_fists_movement</td>\n",
       "    </tr>\n",
       "  </tbody>\n",
       "</table>\n",
       "</div>"
      ],
      "text/plain": [
       "                       0\n",
       "0     baseline_eyes_open\n",
       "1   baseline_eyes_closed\n",
       "2      right_arm_imagery\n",
       "3       left_arm_imagery\n",
       "4      both_arms_imagery\n",
       "5     right_arm_movement\n",
       "6      left_arm_movement\n",
       "7     both_arms_movement\n",
       "8      right_leg_imagery\n",
       "9       left_leg_imagery\n",
       "10     both_legs_imagery\n",
       "11    right_leg_movement\n",
       "12     left_leg_movement\n",
       "13    both_legs_movement\n",
       "14    right_fist_imagery\n",
       "15     left_fist_imagery\n",
       "16    both_fists_imagery\n",
       "17   right_fist_movement\n",
       "18    left_fist_movement\n",
       "19   both_fists_movement"
      ]
     },
     "execution_count": 22,
     "metadata": {},
     "output_type": "execute_result"
    }
   ],
   "source": [
    "#the different labels in the dataset\n",
    "distinct_labels_clean = df_clean['label'].unique()\n",
    "pd.DataFrame(distinct_labels_clean)"
   ]
  },
  {
   "cell_type": "code",
   "execution_count": 8,
   "id": "e990cd71",
   "metadata": {},
   "outputs": [
    {
     "data": {
      "application/vnd.microsoft.datawrangler.viewer.v0+json": {
       "columns": [
        {
         "name": "index",
         "rawType": "object",
         "type": "string"
        },
        {
         "name": "channel_0",
         "rawType": "float64",
         "type": "float"
        },
        {
         "name": "channel_1",
         "rawType": "float64",
         "type": "float"
        },
        {
         "name": "channel_2",
         "rawType": "float64",
         "type": "float"
        },
        {
         "name": "channel_3",
         "rawType": "float64",
         "type": "float"
        },
        {
         "name": "channel_4",
         "rawType": "float64",
         "type": "float"
        },
        {
         "name": "channel_5",
         "rawType": "float64",
         "type": "float"
        },
        {
         "name": "channel_6",
         "rawType": "float64",
         "type": "float"
        },
        {
         "name": "channel_7",
         "rawType": "float64",
         "type": "float"
        },
        {
         "name": "channel_8",
         "rawType": "float64",
         "type": "float"
        },
        {
         "name": "channel_9",
         "rawType": "float64",
         "type": "float"
        },
        {
         "name": "channel_10",
         "rawType": "float64",
         "type": "float"
        },
        {
         "name": "channel_11",
         "rawType": "float64",
         "type": "float"
        }
       ],
       "ref": "4076fdc8-f2ea-4164-afdc-d1d12a75a906",
       "rows": [
        [
         "count",
         "130931.0",
         "130931.0",
         "130931.0",
         "130931.0",
         "130931.0",
         "130931.0",
         "130931.0",
         "130931.0",
         "130931.0",
         "130931.0",
         "130931.0",
         "130931.0"
        ],
        [
         "mean",
         "-0.0003233891924195124",
         "-0.00034773781276118353",
         "-0.0006160645820097407",
         "-0.000871534764379478",
         "-0.0005753996026717505",
         "-0.0006992505528431595",
         "-0.0015139589882603014",
         "-0.0015336261739659087",
         "-0.0007082715638723815",
         "-0.0012535029545624123",
         "-0.0010543717429831797",
         "-0.0009593923435030293"
        ],
        [
         "std",
         "23.68113073935724",
         "11.258172697341283",
         "12.86365072313493",
         "12.543113792889837",
         "10.082782031488868",
         "9.80990017935353",
         "7.311974618860231",
         "9.385731651894318",
         "7.649204535442459",
         "8.3349645773211",
         "7.323827876847513",
         "8.24921607848328"
        ],
        [
         "min",
         "-1205.2510880129887",
         "-180.75867843619545",
         "-429.8599340332658",
         "-365.3026284945162",
         "-258.90156413339867",
         "-237.79467946780665",
         "-172.15563366607236",
         "-233.4800382486852",
         "-145.52665179392775",
         "-185.51965717806274",
         "-101.8683878478917",
         "-167.02567719966683"
        ],
        [
         "25%",
         "-3.9658556773117004",
         "-3.999425765152826",
         "-4.533221209572844",
         "-4.665711551287746",
         "-4.325581427591309",
         "-4.644606372105281",
         "-4.217655846320447",
         "-4.430674862033632",
         "-3.9554005015361495",
         "-3.7921570009923977",
         "-4.21218414046613",
         "-4.455335282629404"
        ],
        [
         "50%",
         "-0.024535802465499225",
         "-0.006114009352795047",
         "-0.0182971876058022",
         "0.010213621092782177",
         "-0.04084050300609089",
         "-0.014195512445953077",
         "-0.003408430390496932",
         "-0.01213892524900841",
         "0.028750349299533323",
         "0.08760464430647472",
         "0.031961701173627566",
         "0.0031220104993041446"
        ],
        [
         "75%",
         "3.8807854740287846",
         "3.96035147501901",
         "4.475261581919847",
         "4.55944112518787",
         "4.239105463961181",
         "4.565334468274578",
         "4.268286576360847",
         "4.485093474974791",
         "3.9860316145172776",
         "3.8326756043371883",
         "4.327664698452314",
         "4.5316364263960445"
        ],
        [
         "max",
         "1225.821395620937",
         "184.1300239546876",
         "442.3969355616309",
         "364.72124461866485",
         "265.38064879101825",
         "259.8789502514582",
         "156.2300980434564",
         "224.238466027184",
         "142.3188064142255",
         "184.1958337348654",
         "109.7632575493616",
         "171.7196316665376"
        ]
       ],
       "shape": {
        "columns": 12,
        "rows": 8
       }
      },
      "text/html": [
       "<div>\n",
       "<style scoped>\n",
       "    .dataframe tbody tr th:only-of-type {\n",
       "        vertical-align: middle;\n",
       "    }\n",
       "\n",
       "    .dataframe tbody tr th {\n",
       "        vertical-align: top;\n",
       "    }\n",
       "\n",
       "    .dataframe thead th {\n",
       "        text-align: right;\n",
       "    }\n",
       "</style>\n",
       "<table border=\"1\" class=\"dataframe\">\n",
       "  <thead>\n",
       "    <tr style=\"text-align: right;\">\n",
       "      <th></th>\n",
       "      <th>channel_0</th>\n",
       "      <th>channel_1</th>\n",
       "      <th>channel_2</th>\n",
       "      <th>channel_3</th>\n",
       "      <th>channel_4</th>\n",
       "      <th>channel_5</th>\n",
       "      <th>channel_6</th>\n",
       "      <th>channel_7</th>\n",
       "      <th>channel_8</th>\n",
       "      <th>channel_9</th>\n",
       "      <th>channel_10</th>\n",
       "      <th>channel_11</th>\n",
       "    </tr>\n",
       "  </thead>\n",
       "  <tbody>\n",
       "    <tr>\n",
       "      <th>count</th>\n",
       "      <td>130931.000000</td>\n",
       "      <td>130931.000000</td>\n",
       "      <td>130931.000000</td>\n",
       "      <td>130931.000000</td>\n",
       "      <td>130931.000000</td>\n",
       "      <td>130931.000000</td>\n",
       "      <td>130931.000000</td>\n",
       "      <td>130931.000000</td>\n",
       "      <td>130931.000000</td>\n",
       "      <td>130931.000000</td>\n",
       "      <td>130931.000000</td>\n",
       "      <td>130931.000000</td>\n",
       "    </tr>\n",
       "    <tr>\n",
       "      <th>mean</th>\n",
       "      <td>-0.000323</td>\n",
       "      <td>-0.000348</td>\n",
       "      <td>-0.000616</td>\n",
       "      <td>-0.000872</td>\n",
       "      <td>-0.000575</td>\n",
       "      <td>-0.000699</td>\n",
       "      <td>-0.001514</td>\n",
       "      <td>-0.001534</td>\n",
       "      <td>-0.000708</td>\n",
       "      <td>-0.001254</td>\n",
       "      <td>-0.001054</td>\n",
       "      <td>-0.000959</td>\n",
       "    </tr>\n",
       "    <tr>\n",
       "      <th>std</th>\n",
       "      <td>23.681131</td>\n",
       "      <td>11.258173</td>\n",
       "      <td>12.863651</td>\n",
       "      <td>12.543114</td>\n",
       "      <td>10.082782</td>\n",
       "      <td>9.809900</td>\n",
       "      <td>7.311975</td>\n",
       "      <td>9.385732</td>\n",
       "      <td>7.649205</td>\n",
       "      <td>8.334965</td>\n",
       "      <td>7.323828</td>\n",
       "      <td>8.249216</td>\n",
       "    </tr>\n",
       "    <tr>\n",
       "      <th>min</th>\n",
       "      <td>-1205.251088</td>\n",
       "      <td>-180.758678</td>\n",
       "      <td>-429.859934</td>\n",
       "      <td>-365.302628</td>\n",
       "      <td>-258.901564</td>\n",
       "      <td>-237.794679</td>\n",
       "      <td>-172.155634</td>\n",
       "      <td>-233.480038</td>\n",
       "      <td>-145.526652</td>\n",
       "      <td>-185.519657</td>\n",
       "      <td>-101.868388</td>\n",
       "      <td>-167.025677</td>\n",
       "    </tr>\n",
       "    <tr>\n",
       "      <th>25%</th>\n",
       "      <td>-3.965856</td>\n",
       "      <td>-3.999426</td>\n",
       "      <td>-4.533221</td>\n",
       "      <td>-4.665712</td>\n",
       "      <td>-4.325581</td>\n",
       "      <td>-4.644606</td>\n",
       "      <td>-4.217656</td>\n",
       "      <td>-4.430675</td>\n",
       "      <td>-3.955401</td>\n",
       "      <td>-3.792157</td>\n",
       "      <td>-4.212184</td>\n",
       "      <td>-4.455335</td>\n",
       "    </tr>\n",
       "    <tr>\n",
       "      <th>50%</th>\n",
       "      <td>-0.024536</td>\n",
       "      <td>-0.006114</td>\n",
       "      <td>-0.018297</td>\n",
       "      <td>0.010214</td>\n",
       "      <td>-0.040841</td>\n",
       "      <td>-0.014196</td>\n",
       "      <td>-0.003408</td>\n",
       "      <td>-0.012139</td>\n",
       "      <td>0.028750</td>\n",
       "      <td>0.087605</td>\n",
       "      <td>0.031962</td>\n",
       "      <td>0.003122</td>\n",
       "    </tr>\n",
       "    <tr>\n",
       "      <th>75%</th>\n",
       "      <td>3.880785</td>\n",
       "      <td>3.960351</td>\n",
       "      <td>4.475262</td>\n",
       "      <td>4.559441</td>\n",
       "      <td>4.239105</td>\n",
       "      <td>4.565334</td>\n",
       "      <td>4.268287</td>\n",
       "      <td>4.485093</td>\n",
       "      <td>3.986032</td>\n",
       "      <td>3.832676</td>\n",
       "      <td>4.327665</td>\n",
       "      <td>4.531636</td>\n",
       "    </tr>\n",
       "    <tr>\n",
       "      <th>max</th>\n",
       "      <td>1225.821396</td>\n",
       "      <td>184.130024</td>\n",
       "      <td>442.396936</td>\n",
       "      <td>364.721245</td>\n",
       "      <td>265.380649</td>\n",
       "      <td>259.878950</td>\n",
       "      <td>156.230098</td>\n",
       "      <td>224.238466</td>\n",
       "      <td>142.318806</td>\n",
       "      <td>184.195834</td>\n",
       "      <td>109.763258</td>\n",
       "      <td>171.719632</td>\n",
       "    </tr>\n",
       "  </tbody>\n",
       "</table>\n",
       "</div>"
      ],
      "text/plain": [
       "           channel_0      channel_1      channel_2      channel_3  \\\n",
       "count  130931.000000  130931.000000  130931.000000  130931.000000   \n",
       "mean       -0.000323      -0.000348      -0.000616      -0.000872   \n",
       "std        23.681131      11.258173      12.863651      12.543114   \n",
       "min     -1205.251088    -180.758678    -429.859934    -365.302628   \n",
       "25%        -3.965856      -3.999426      -4.533221      -4.665712   \n",
       "50%        -0.024536      -0.006114      -0.018297       0.010214   \n",
       "75%         3.880785       3.960351       4.475262       4.559441   \n",
       "max      1225.821396     184.130024     442.396936     364.721245   \n",
       "\n",
       "           channel_4      channel_5      channel_6      channel_7  \\\n",
       "count  130931.000000  130931.000000  130931.000000  130931.000000   \n",
       "mean       -0.000575      -0.000699      -0.001514      -0.001534   \n",
       "std        10.082782       9.809900       7.311975       9.385732   \n",
       "min      -258.901564    -237.794679    -172.155634    -233.480038   \n",
       "25%        -4.325581      -4.644606      -4.217656      -4.430675   \n",
       "50%        -0.040841      -0.014196      -0.003408      -0.012139   \n",
       "75%         4.239105       4.565334       4.268287       4.485093   \n",
       "max       265.380649     259.878950     156.230098     224.238466   \n",
       "\n",
       "           channel_8      channel_9     channel_10     channel_11  \n",
       "count  130931.000000  130931.000000  130931.000000  130931.000000  \n",
       "mean       -0.000708      -0.001254      -0.001054      -0.000959  \n",
       "std         7.649205       8.334965       7.323828       8.249216  \n",
       "min      -145.526652    -185.519657    -101.868388    -167.025677  \n",
       "25%        -3.955401      -3.792157      -4.212184      -4.455335  \n",
       "50%         0.028750       0.087605       0.031962       0.003122  \n",
       "75%         3.986032       3.832676       4.327665       4.531636  \n",
       "max       142.318806     184.195834     109.763258     171.719632  "
      ]
     },
     "execution_count": 8,
     "metadata": {},
     "output_type": "execute_result"
    }
   ],
   "source": [
    "#try the version without scaling\n",
    "df_clean_no_scale = dp.clean_data(df.copy(), scale=False)\n",
    "df_clean_no_scale.head()\n",
    "df_clean_no_scale.describe()"
   ]
  },
  {
   "cell_type": "code",
   "execution_count": 39,
   "id": "ceb015fe",
   "metadata": {},
   "outputs": [
    {
     "name": "stdout",
     "output_type": "stream",
     "text": [
      "Encode with disting int label: [ 0  1  2  3  4  5  6  7  8  9 10 11 12 13 14 15 16 17 18 19]\n",
      "X shape: (130931, 12)\n",
      "y shape: (130931,)\n",
      "X type: <class 'numpy.ndarray'>\n",
      "y type: <class 'numpy.ndarray'>\n"
     ]
    }
   ],
   "source": [
    "#split data into features and target\\\n",
    "X, y = dp.split_data_target(df_clean)\n",
    "\n",
    "print(f'Encode with disting int label: {np.unique(y)}')\n",
    "\n",
    "#check the dimension of X and y\n",
    "print(f'X shape: {X.shape}')\n",
    "print(f'y shape: {y.shape}')\n",
    "print(f'X type: {type(X)}')\n",
    "print(f'y type: {type(y)}')\n"
   ]
  },
  {
   "cell_type": "code",
   "execution_count": 42,
   "id": "15b8ae44",
   "metadata": {},
   "outputs": [
    {
     "name": "stdout",
     "output_type": "stream",
     "text": [
      "Info about the shape of reduced input: (130931, 12)\n"
     ]
    }
   ],
   "source": [
    "x_reduced, lda = dp.lda_process(X, y, n_components=None)\n",
    "      \n",
    "print(f'Info about the shape of reduced input: {x_reduced.shape}')"
   ]
  },
  {
   "cell_type": "code",
   "execution_count": 43,
   "id": "abe0c3cd",
   "metadata": {},
   "outputs": [
    {
     "name": "stdout",
     "output_type": "stream",
     "text": [
      "Explained variance ratio per component: [4.05437217e-01 2.54994235e-01 1.77059953e-01 6.14584392e-02\n",
      " 4.93687016e-02 2.56460899e-02 1.38589403e-02 5.19314049e-03\n",
      " 3.71574541e-03 2.40631869e-03 7.27934825e-04 1.33285074e-04]\n",
      "Explained variance: 0.9999999999999999\n"
     ]
    }
   ],
   "source": [
    "# Percentage of variance explained for each components\n",
    "print(f'Explained variance ratio per component: {lda.explained_variance_ratio_}')\n",
    "print(f'Explained variance: {lda.explained_variance_ratio_.sum()}')    "
   ]
  },
  {
   "cell_type": "code",
   "execution_count": 46,
   "id": "3a26a338",
   "metadata": {},
   "outputs": [
    {
     "name": "stdout",
     "output_type": "stream",
     "text": [
      "Number of components required to reach 95.0% variance: 6\n",
      "(130931, 6)\n"
     ]
    }
   ],
   "source": [
    "required_var = 0.95\n",
    "\n",
    "X_reduced = dp.get_data_for_variance(lda=lda, X=X)\n",
    "print(f'Number of components required to reach {required_var*100}% variance: {X_reduced.shape[1]}')\n",
    "\n",
    "print(X_reduced.shape)\n",
    "\n",
    "\n"
   ]
  }
 ],
 "metadata": {
  "kernelspec": {
   "display_name": ".venv",
   "language": "python",
   "name": "python3"
  },
  "language_info": {
   "codemirror_mode": {
    "name": "ipython",
    "version": 3
   },
   "file_extension": ".py",
   "mimetype": "text/x-python",
   "name": "python",
   "nbconvert_exporter": "python",
   "pygments_lexer": "ipython3",
   "version": "3.12.3"
  }
 },
 "nbformat": 4,
 "nbformat_minor": 5
}

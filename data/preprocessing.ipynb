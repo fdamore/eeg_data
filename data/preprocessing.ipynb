{
 "cells": [
  {
   "cell_type": "code",
   "execution_count": 24,
   "id": "2004d993",
   "metadata": {},
   "outputs": [
    {
     "name": "stdout",
     "output_type": "stream",
     "text": [
      "The autoreload extension is already loaded. To reload it, use:\n",
      "  %reload_ext autoreload\n"
     ]
    }
   ],
   "source": [
    "%load_ext autoreload\n",
    "%autoreload 2"
   ]
  },
  {
   "cell_type": "code",
   "execution_count": 34,
   "id": "86433b3c",
   "metadata": {},
   "outputs": [],
   "source": [
    "import sys\n",
    "sys.path.append('..')"
   ]
  },
  {
   "cell_type": "code",
   "execution_count": 37,
   "id": "092270dc",
   "metadata": {},
   "outputs": [
    {
     "data": {
      "application/vnd.microsoft.datawrangler.viewer.v0+json": {
       "columns": [
        {
         "name": "index",
         "rawType": "int64",
         "type": "integer"
        },
        {
         "name": "channel_0",
         "rawType": "float64",
         "type": "float"
        },
        {
         "name": "channel_1",
         "rawType": "float64",
         "type": "float"
        },
        {
         "name": "channel_2",
         "rawType": "float64",
         "type": "float"
        },
        {
         "name": "channel_3",
         "rawType": "float64",
         "type": "float"
        },
        {
         "name": "channel_4",
         "rawType": "float64",
         "type": "float"
        },
        {
         "name": "channel_5",
         "rawType": "float64",
         "type": "float"
        },
        {
         "name": "channel_6",
         "rawType": "float64",
         "type": "float"
        },
        {
         "name": "channel_7",
         "rawType": "float64",
         "type": "float"
        },
        {
         "name": "channel_8",
         "rawType": "float64",
         "type": "float"
        },
        {
         "name": "channel_9",
         "rawType": "float64",
         "type": "float"
        },
        {
         "name": "channel_10",
         "rawType": "float64",
         "type": "float"
        },
        {
         "name": "channel_11",
         "rawType": "float64",
         "type": "float"
        },
        {
         "name": "label",
         "rawType": "object",
         "type": "string"
        }
       ],
       "ref": "49f328b0-291a-415a-b5b2-55951c3df8bc",
       "rows": [
        [
         "512",
         "0.014870390417038701",
         "0.00028473746017277886",
         "-0.02372026408390363",
         "-0.007394795928662472",
         "-0.0183153763943408",
         "-0.024062301637927587",
         "-0.050710333635739235",
         "-0.026561670237823364",
         "-0.0971496436539751",
         "-0.031036048143442616",
         "-0.032859559543586984",
         "-0.06753409610583251",
         "baseline_eyes_open"
        ],
        [
         "513",
         "-0.007400869022240386",
         "-0.057402626840273835",
         "-0.024773275042536187",
         "-0.19837822563363047",
         "-0.024712955750490578",
         "-0.2406821222112473",
         "-0.3345196222878633",
         "-0.31019953740328476",
         "-0.2692498184257997",
         "-0.31122155612473146",
         "-0.2485852759235766",
         "0.16432793058902653",
         "baseline_eyes_open"
        ],
        [
         "514",
         "-0.03212224165846203",
         "-0.11703603131115606",
         "-0.05699967375969428",
         "-0.39571495049628386",
         "-0.021912975367575145",
         "-0.42019847375167374",
         "-0.5971686788262932",
         "-0.5998402848285832",
         "-0.43463814319461236",
         "-0.5738278259293957",
         "-0.506029932703062",
         "0.24381508592066323",
         "baseline_eyes_open"
        ],
        [
         "515",
         "-0.05829772713894918",
         "-0.17380170020184346",
         "-0.13348667720379012",
         "-0.5933222353844789",
         "-0.00648569436792436",
         "-0.5319676051625847",
         "-0.8194022358516375",
         "-0.886484032196448",
         "-0.5783015700541414",
         "-0.8025326766587308",
         "-0.8105341612965833",
         "0.09405028736810472",
         "baseline_eyes_open"
        ],
        [
         "516",
         "-0.08047067554027813",
         "-0.21523361026380652",
         "-0.24161400520173945",
         "-0.7697712135930072",
         "0.015051018308448466",
         "-0.5618844979178876",
         "-0.9876460771996481",
         "-1.1442600678586259",
         "-0.6763162528401998",
         "-0.9853145626964229",
         "-1.1177554418350604",
         "-0.25356159406019474",
         "baseline_eyes_open"
        ]
       ],
       "shape": {
        "columns": 13,
        "rows": 5
       }
      },
      "text/html": [
       "<div>\n",
       "<style scoped>\n",
       "    .dataframe tbody tr th:only-of-type {\n",
       "        vertical-align: middle;\n",
       "    }\n",
       "\n",
       "    .dataframe tbody tr th {\n",
       "        vertical-align: top;\n",
       "    }\n",
       "\n",
       "    .dataframe thead th {\n",
       "        text-align: right;\n",
       "    }\n",
       "</style>\n",
       "<table border=\"1\" class=\"dataframe\">\n",
       "  <thead>\n",
       "    <tr style=\"text-align: right;\">\n",
       "      <th></th>\n",
       "      <th>channel_0</th>\n",
       "      <th>channel_1</th>\n",
       "      <th>channel_2</th>\n",
       "      <th>channel_3</th>\n",
       "      <th>channel_4</th>\n",
       "      <th>channel_5</th>\n",
       "      <th>channel_6</th>\n",
       "      <th>channel_7</th>\n",
       "      <th>channel_8</th>\n",
       "      <th>channel_9</th>\n",
       "      <th>channel_10</th>\n",
       "      <th>channel_11</th>\n",
       "      <th>label</th>\n",
       "    </tr>\n",
       "  </thead>\n",
       "  <tbody>\n",
       "    <tr>\n",
       "      <th>512</th>\n",
       "      <td>0.014870</td>\n",
       "      <td>0.000285</td>\n",
       "      <td>-0.023720</td>\n",
       "      <td>-0.007395</td>\n",
       "      <td>-0.018315</td>\n",
       "      <td>-0.024062</td>\n",
       "      <td>-0.050710</td>\n",
       "      <td>-0.026562</td>\n",
       "      <td>-0.097150</td>\n",
       "      <td>-0.031036</td>\n",
       "      <td>-0.032860</td>\n",
       "      <td>-0.067534</td>\n",
       "      <td>baseline_eyes_open</td>\n",
       "    </tr>\n",
       "    <tr>\n",
       "      <th>513</th>\n",
       "      <td>-0.007401</td>\n",
       "      <td>-0.057403</td>\n",
       "      <td>-0.024773</td>\n",
       "      <td>-0.198378</td>\n",
       "      <td>-0.024713</td>\n",
       "      <td>-0.240682</td>\n",
       "      <td>-0.334520</td>\n",
       "      <td>-0.310200</td>\n",
       "      <td>-0.269250</td>\n",
       "      <td>-0.311222</td>\n",
       "      <td>-0.248585</td>\n",
       "      <td>0.164328</td>\n",
       "      <td>baseline_eyes_open</td>\n",
       "    </tr>\n",
       "    <tr>\n",
       "      <th>514</th>\n",
       "      <td>-0.032122</td>\n",
       "      <td>-0.117036</td>\n",
       "      <td>-0.057000</td>\n",
       "      <td>-0.395715</td>\n",
       "      <td>-0.021913</td>\n",
       "      <td>-0.420198</td>\n",
       "      <td>-0.597169</td>\n",
       "      <td>-0.599840</td>\n",
       "      <td>-0.434638</td>\n",
       "      <td>-0.573828</td>\n",
       "      <td>-0.506030</td>\n",
       "      <td>0.243815</td>\n",
       "      <td>baseline_eyes_open</td>\n",
       "    </tr>\n",
       "    <tr>\n",
       "      <th>515</th>\n",
       "      <td>-0.058298</td>\n",
       "      <td>-0.173802</td>\n",
       "      <td>-0.133487</td>\n",
       "      <td>-0.593322</td>\n",
       "      <td>-0.006486</td>\n",
       "      <td>-0.531968</td>\n",
       "      <td>-0.819402</td>\n",
       "      <td>-0.886484</td>\n",
       "      <td>-0.578302</td>\n",
       "      <td>-0.802533</td>\n",
       "      <td>-0.810534</td>\n",
       "      <td>0.094050</td>\n",
       "      <td>baseline_eyes_open</td>\n",
       "    </tr>\n",
       "    <tr>\n",
       "      <th>516</th>\n",
       "      <td>-0.080471</td>\n",
       "      <td>-0.215234</td>\n",
       "      <td>-0.241614</td>\n",
       "      <td>-0.769771</td>\n",
       "      <td>0.015051</td>\n",
       "      <td>-0.561884</td>\n",
       "      <td>-0.987646</td>\n",
       "      <td>-1.144260</td>\n",
       "      <td>-0.676316</td>\n",
       "      <td>-0.985315</td>\n",
       "      <td>-1.117755</td>\n",
       "      <td>-0.253562</td>\n",
       "      <td>baseline_eyes_open</td>\n",
       "    </tr>\n",
       "  </tbody>\n",
       "</table>\n",
       "</div>"
      ],
      "text/plain": [
       "     channel_0  channel_1  channel_2  channel_3  channel_4  channel_5  \\\n",
       "512   0.014870   0.000285  -0.023720  -0.007395  -0.018315  -0.024062   \n",
       "513  -0.007401  -0.057403  -0.024773  -0.198378  -0.024713  -0.240682   \n",
       "514  -0.032122  -0.117036  -0.057000  -0.395715  -0.021913  -0.420198   \n",
       "515  -0.058298  -0.173802  -0.133487  -0.593322  -0.006486  -0.531968   \n",
       "516  -0.080471  -0.215234  -0.241614  -0.769771   0.015051  -0.561884   \n",
       "\n",
       "     channel_6  channel_7  channel_8  channel_9  channel_10  channel_11  \\\n",
       "512  -0.050710  -0.026562  -0.097150  -0.031036   -0.032860   -0.067534   \n",
       "513  -0.334520  -0.310200  -0.269250  -0.311222   -0.248585    0.164328   \n",
       "514  -0.597169  -0.599840  -0.434638  -0.573828   -0.506030    0.243815   \n",
       "515  -0.819402  -0.886484  -0.578302  -0.802533   -0.810534    0.094050   \n",
       "516  -0.987646  -1.144260  -0.676316  -0.985315   -1.117755   -0.253562   \n",
       "\n",
       "                  label  \n",
       "512  baseline_eyes_open  \n",
       "513  baseline_eyes_open  \n",
       "514  baseline_eyes_open  \n",
       "515  baseline_eyes_open  \n",
       "516  baseline_eyes_open  "
      ]
     },
     "execution_count": 37,
     "metadata": {},
     "output_type": "execute_result"
    }
   ],
   "source": [
    "from scipy.signal import butter, filtfilt\n",
    "from sklearn.preprocessing import StandardScaler\n",
    "import pandas as pd\n",
    "import numpy as np\n",
    "\n",
    "import dataproc.preprocessing as dp\n",
    "\n",
    "\n",
    "# Loaded variable 'df' from URI: /home/francesco/git/esn_rpy/data/signal_eeg.csv\n",
    "df = pd.read_csv(r'/home/francesco/git/esn_rpy/data/signal_eeg.csv')\n",
    "\n",
    "df_clean =    dp.clean_data(df.copy())\n",
    "df_clean.head()"
   ]
  },
  {
   "cell_type": "code",
   "execution_count": 39,
   "id": "ceb015fe",
   "metadata": {},
   "outputs": [
    {
     "name": "stdout",
     "output_type": "stream",
     "text": [
      "Encode with disting int label: [ 0  1  2  3  4  5  6  7  8  9 10 11 12 13 14 15 16 17 18 19]\n",
      "X shape: (130931, 12)\n",
      "y shape: (130931,)\n",
      "X type: <class 'numpy.ndarray'>\n",
      "y type: <class 'numpy.ndarray'>\n"
     ]
    }
   ],
   "source": [
    "#split data into features and target\\\n",
    "X, y = dp.split_data_target(df_clean)\n",
    "\n",
    "print(f'Encode with disting int label: {np.unique(y)}')\n",
    "\n",
    "#check the dimension of X and y\n",
    "print(f'X shape: {X.shape}')\n",
    "print(f'y shape: {y.shape}')\n",
    "print(f'X type: {type(X)}')\n",
    "print(f'y type: {type(y)}')\n"
   ]
  },
  {
   "cell_type": "code",
   "execution_count": 42,
   "id": "15b8ae44",
   "metadata": {},
   "outputs": [
    {
     "name": "stdout",
     "output_type": "stream",
     "text": [
      "Info about the shape of reduced input: (130931, 12)\n"
     ]
    }
   ],
   "source": [
    "x_reduced, lda = dp.lda_process(X, y, n_components=None)\n",
    "      \n",
    "print(f'Info about the shape of reduced input: {x_reduced.shape}')"
   ]
  },
  {
   "cell_type": "code",
   "execution_count": 43,
   "id": "abe0c3cd",
   "metadata": {},
   "outputs": [
    {
     "name": "stdout",
     "output_type": "stream",
     "text": [
      "Explained variance ratio per component: [4.05437217e-01 2.54994235e-01 1.77059953e-01 6.14584392e-02\n",
      " 4.93687016e-02 2.56460899e-02 1.38589403e-02 5.19314049e-03\n",
      " 3.71574541e-03 2.40631869e-03 7.27934825e-04 1.33285074e-04]\n",
      "Explained variance: 0.9999999999999999\n"
     ]
    }
   ],
   "source": [
    "# Percentage of variance explained for each components\n",
    "print(f'Explained variance ratio per component: {lda.explained_variance_ratio_}')\n",
    "print(f'Explained variance: {lda.explained_variance_ratio_.sum()}')    "
   ]
  },
  {
   "cell_type": "code",
   "execution_count": 46,
   "id": "3a26a338",
   "metadata": {},
   "outputs": [
    {
     "name": "stdout",
     "output_type": "stream",
     "text": [
      "Number of components required to reach 95.0% variance: 6\n",
      "(130931, 6)\n"
     ]
    }
   ],
   "source": [
    "required_var = 0.95\n",
    "\n",
    "X_reduced = dp.get_data_for_variance(lda=lda, X=X)\n",
    "print(f'Number of components required to reach {required_var*100}% variance: {X_reduced.shape[1]}')\n",
    "\n",
    "print(X_reduced.shape)\n",
    "\n",
    "\n"
   ]
  }
 ],
 "metadata": {
  "kernelspec": {
   "display_name": ".venv",
   "language": "python",
   "name": "python3"
  },
  "language_info": {
   "codemirror_mode": {
    "name": "ipython",
    "version": 3
   },
   "file_extension": ".py",
   "mimetype": "text/x-python",
   "name": "python",
   "nbconvert_exporter": "python",
   "pygments_lexer": "ipython3",
   "version": "3.12.3"
  }
 },
 "nbformat": 4,
 "nbformat_minor": 5
}
